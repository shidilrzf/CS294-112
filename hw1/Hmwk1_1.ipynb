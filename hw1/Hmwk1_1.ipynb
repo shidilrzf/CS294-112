{
 "cells": [
  {
   "cell_type": "code",
   "execution_count": 3,
   "metadata": {},
   "outputs": [],
   "source": [
    "import os\n",
    "import pickle\n",
    "import numpy as np\n",
    "import gym\n",
    "import load_policy_pytorch\n",
    "import models\n",
    "import torch\n",
    "import matplotlib.pyplot as plt\n",
    "import seaborn as sns\n",
    "from sklearn.model_selection import train_test_split\n",
    "from torch.optim import Adam\n",
    "from torch import nn\n",
    "from torch.utils.data import TensorDataset, DataLoader\n"
   ]
  },
  {
   "cell_type": "code",
   "execution_count": 4,
   "metadata": {},
   "outputs": [],
   "source": [
    "def train_validate(model, dataloader, optim, loss_fn, epoch,train):\n",
    "    loss_all = 0\n",
    "    model.train() if train else model.eval()\n",
    "    for batch_idx, (x, y) in enumerate(dataloader):\n",
    "\n",
    "        pred_act = model(x)\n",
    "        loss = loss_fn(pred_act, y)\n",
    "\n",
    "        if train:\n",
    "            optim.zero_grad()\n",
    "            loss.backward()\n",
    "            optim.step()\n",
    "       # if batch_idx % 50 == 0:\n",
    "        #    print('Train Epoch: {} [{}/{} ({:.0f}%)]\\tLoss: {:.6f} '.format(\n",
    "         #       epoch, batch_idx * len(x), len(dataloader.dataset),\n",
    "         #              100. * batch_idx / len(dataloader), loss.item() / len(x)))\n",
    "\n",
    "\n",
    "\n",
    "        loss_all += loss.item()\n",
    "    return loss_all / len(dataloader.dataset)\n"
   ]
  },
  {
   "cell_type": "code",
   "execution_count": 9,
   "metadata": {},
   "outputs": [],
   "source": [
    "expert_policy_file = './experts/Humanoid-v2.pkl '\n",
    "envname = 'Humanoid-v2'\n",
    "render = False\n",
    "max_timesteps = 100\n",
    "num_rollouts = 20\n",
    "batch_size = 50\n",
    "\n"
   ]
  },
  {
   "cell_type": "code",
   "execution_count": 12,
   "metadata": {},
   "outputs": [
    {
     "name": "stdout",
     "output_type": "stream",
     "text": [
      "(4000, 376)\n",
      "(4000, 1, 17)\n"
     ]
    }
   ],
   "source": [
    "expert_data = pickle.load(open(os.path.join('expert_data/' + envname + '.pkl'), 'rb'))\n",
    "expert_obs = expert_data['observations']\n",
    "expert_act = expert_data['actions']\n",
    "\n",
    "print(expert_obs.shape)\n",
    "print(expert_act.shape)\n",
    "\n",
    "expert_obs_train, expert_obs_test, expert_act_train, expert_act_test = train_test_split(expert_obs, expert_act, test_size = 0.2)\n",
    "\n",
    "\n",
    "expert_obs_train = torch.from_numpy(expert_obs_train).type(torch.FloatTensor)\n",
    "expert_act_train = torch.from_numpy(expert_act_train).squeeze(1).type(torch.FloatTensor)\n",
    "expert_obs_test = torch.from_numpy(expert_obs_test).type(torch.FloatTensor)\n",
    "expert_act_test = torch.from_numpy(expert_act_test).squeeze(1).type(torch.FloatTensor)\n",
    "\n",
    "dataset_train = TensorDataset(expert_obs_train, expert_act_train)\n",
    "dataloader_train = DataLoader(dataset_train, batch_size=batch_size, shuffle=True)\n",
    "\n",
    "dataset_val = TensorDataset(expert_obs_test, expert_act_test)\n",
    "dataloader_val = DataLoader(dataset_val, batch_size=batch_size, shuffle=True)"
   ]
  },
  {
   "cell_type": "code",
   "execution_count": 13,
   "metadata": {},
   "outputs": [
    {
     "name": "stderr",
     "output_type": "stream",
     "text": [
      "/usr/local/Cellar/python3/3.6.3/Frameworks/Python.framework/Versions/3.6/lib/python3.6/site-packages/torch/nn/modules/loss.py:443: UserWarning: Using a target size (torch.Size([50, 17])) that is different to the input size (torch.Size([50, 1])). This will likely lead to incorrect results due to broadcasting. Please ensure they have the same size.\n",
      "  return F.mse_loss(input, target, reduction=self.reduction)\n"
     ]
    }
   ],
   "source": [
    "bc_model = models.bc(expert_obs.shape[1], expert_act.shape[1])\n",
    "\n",
    "optim = Adam(bc_model.parameters(), lr=0.001)\n",
    "loss_fn = nn.MSELoss()\n",
    "n_epochs = 50\n",
    "\n",
    "\n",
    "train_loss = []\n",
    "val_loss = []\n",
    "for epoch in range(0, n_epochs):\n",
    "    t_loss = train_validate(bc_model, dataloader_train, optim, loss_fn, epoch, train=True)\n",
    "    train_loss.append(t_loss)\n",
    "    v_loss = train_validate(bc_model, dataloader_val, optim, loss_fn, epoch, train=False)\n",
    "    val_loss.append(v_loss)\n"
   ]
  },
  {
   "cell_type": "code",
   "execution_count": null,
   "metadata": {},
   "outputs": [],
   "source": [
    "sns.set()\n",
    "plt.plot(np.arange(len(train_loss)), train_loss, label='train')\n",
    "plt.plot(np.arange(len(val_loss)), val_loss, label='val')\n",
    "plt.title('Training')\n",
    "plt.xlabel('Step')\n",
    "plt.ylabel('Negative log loss (bits)')\n",
    "plt.legend()\n",
    "plt.grid(True)\n"
   ]
  }
 ],
 "metadata": {
  "kernelspec": {
   "display_name": "Pytorch",
   "language": "python",
   "name": "myenv"
  },
  "language_info": {
   "codemirror_mode": {
    "name": "ipython",
    "version": 3
   },
   "file_extension": ".py",
   "mimetype": "text/x-python",
   "name": "python",
   "nbconvert_exporter": "python",
   "pygments_lexer": "ipython3",
   "version": "3.6.3"
  }
 },
 "nbformat": 4,
 "nbformat_minor": 2
}
